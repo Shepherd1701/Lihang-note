{
 "cells": [
  {
   "cell_type": "markdown",
   "metadata": {},
   "source": [
    "## 5.1 决策树\n",
    "### 5.1.1 决策树模型\n",
    "内部节点、叶节点\n",
    "### 5.1.2 决策树与if - then 规则\n",
    "可读性来源<br>\n",
    "重要性质：互斥并且完备\n",
    "### 5.1.3 决策树和条件概率分布\n",
    "看三张图\n",
    "### 5.1.4 决策树学习\n",
    "与训练集矛盾较小 + 具有很好的泛化能力<br>\n",
    "决策树的生成对应于模型的局部选择，决策树的剪枝对应于模型的全局选择。"
   ]
  },
  {
   "cell_type": "markdown",
   "metadata": {},
   "source": [
    "## 5.2 特征选择\n",
    "### 5.2.1 特征选择问题\n",
    "### 5.2.2 信息增益\n",
    "在信息论与概率统计中，熵是表示随机变量不确定性的度量。<br>\n",
    "信息增益表示得知特征X的信息而使得类Y的信息的不确定性减少的程度。信息增益大的特征具有更强的分类能力。<br>\n",
    "### 5.2.3 信息增益比\n",
    "解决偏向于选择取值较多的特征的问题"
   ]
  },
  {
   "cell_type": "markdown",
   "metadata": {},
   "source": [
    "## 5.3 决策树的生成\n",
    "### 5.3.1 ID3算法\n",
    "利用信息增益<br>\n",
    "ID3算法只有树的生成，所以该算法生成的树容易产生过拟合\n",
    "### 5.3.2 C4.5的生成算法\n",
    "利用信息增益比进行特征的选择"
   ]
  },
  {
   "cell_type": "markdown",
   "metadata": {},
   "source": [
    "## 5.4 决策树的剪枝\n",
    "决策树的剪枝往往通过极小化决策树整体的损失函数或代价函数来实现"
   ]
  }
 ],
 "metadata": {
  "hide_input": false,
  "kernelspec": {
   "display_name": "Python 3",
   "language": "python",
   "name": "python3"
  },
  "language_info": {
   "codemirror_mode": {
    "name": "ipython",
    "version": 3
   },
   "file_extension": ".py",
   "mimetype": "text/x-python",
   "name": "python",
   "nbconvert_exporter": "python",
   "pygments_lexer": "ipython3",
   "version": "3.8.3"
  },
  "varInspector": {
   "cols": {
    "lenName": 16,
    "lenType": 16,
    "lenVar": 40
   },
   "kernels_config": {
    "python": {
     "delete_cmd_postfix": "",
     "delete_cmd_prefix": "del ",
     "library": "var_list.py",
     "varRefreshCmd": "print(var_dic_list())"
    },
    "r": {
     "delete_cmd_postfix": ") ",
     "delete_cmd_prefix": "rm(",
     "library": "var_list.r",
     "varRefreshCmd": "cat(var_dic_list()) "
    }
   },
   "types_to_exclude": [
    "module",
    "function",
    "builtin_function_or_method",
    "instance",
    "_Feature"
   ],
   "window_display": false
  }
 },
 "nbformat": 4,
 "nbformat_minor": 4
}
