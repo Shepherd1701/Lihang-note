{
 "cells": [
  {
   "cell_type": "markdown",
   "metadata": {},
   "source": [
    "# 第一章 统计学习及监督学习概论"
   ]
  },
  {
   "cell_type": "markdown",
   "metadata": {},
   "source": [
    "## 1.1  统计学习\n",
    "① 统计学习由监督学习(样本有标签，如分类问题)、非监督学习（如样本无标签下的分类）、半监督学习（部分样本有标签，部分没有）、主动学习和强化学习等组成\n",
    "\n",
    "② 统计学习方法<br>\n",
    "&emsp;A.从给定的、有限的、用于学习的训练数据(training set)集合出发<br>\n",
    "&emsp;B.假设数据是独立同分布的<br>\n",
    "&emsp;C.假设要学习的模型属于某个函数的集合，称为假设空间<br>\n",
    "&emsp;D.应用某个评价准则（损失函数、经验风险），从假设空间中选取一个最优的模型；这个模型使它对已知训练数据及未知测试数据在给定的预测准则下有最优预测<br>\n",
    "&emsp;E.最优模型的选取由算法（梯度下降(求偏导)）实现<br>\n",
    "\n",
    "③ 统计学习方法的步骤<br>\n",
    "&emsp;A.得到一个有限的训练数据集合<br>\n",
    "&emsp;B.确定包含所有可能的模型假设空间，即学习模型的集合<br>\n",
    "&emsp;C.确定模型选择的准则，即学习的策略<br>\n",
    "&emsp;D.实现求解最优模型的算法，即学习的算法<br>\n",
    "&emsp;E.通过学习方法选择最优模型<br>\n",
    "&emsp;F.利用学的最优模型对寻数据进行预测或分析<br>"
   ]
  },
  {
   "cell_type": "markdown",
   "metadata": {},
   "source": [
    "## 1.2 统计学习方法的分类\n",
    "### 1.2.1 基本分类\n",
    "#### ① 监督学习\n",
    "**输入空间**：将输入所有可能数值的集合成为输入空间<br>\n",
    "**输出空间**：将输出所有可能数值的集合成为输出空间，通常输出空间远远小于输入空间<br>\n",
    "**特征空间**：每个具体的输入是一个实例，通常由特征向量表示。所有特征向量的集合成为特征空间，特征空间的每一维对应一个特征。\n",
    "$$x_{1}表示第一个样本，而 x^{1}_{1}第一个样本的第一个特征（下表代表样本，上标代表特征）$$\n",
    "监督学习从训练集合中学习模型，对测试数据进行预测，训练数据由输入（或者特征空间）于输出对组成，训练集通常表示为\n",
    "$$T = \\lbrace(x_{1},y_{1}),(x_{2},y_{2}),\\dots,(x_{n},y_{n})\\rbrace$$\n",
    "测试数据也由相应的**输入输出对**组成，**输入输出数据又称为样本或者样本点。**<br>\n",
    "\n",
    "**联合概率分布**：监督学习假设输入于输出的随机变量x和y遵循联合概率分布P(X,Y)。P(X,Y)表示分布函数，或者分布密度函数。\n",
    "**假设空间**：监督学习的目的在于学习一个由输入到输出的**映射**，这一映射由**模型**表示。模型属于由输入空间到输出空间的的映射的集合，这个集合就是假设空间。(假设空间中有多个模型，通过损失函数、经验风险筛选)\n",
    "概率模型/条件概率分布:$$P(y\\mid x)$$\n",
    "非概率模型/决策函数：$$y = f(x)$$\n",
    "注：对于二维随机变量(X,Y)，可以考虑在其中一个随机变量取得（可能的）固定值的条件下，另一随机变量的概率分布，这样得到的X或Y的概率分布叫做**条件概率分布**，简称条件分布。<br>\n",
    "问题的形式化：书中图1.1。两种模型的预测取值方式略有不同\n",
    "\n",
    "#### ② 无监督学习\n",
    "无监督学习是值从无标注的数据中预测模型的机器学习问题。无标注数据是自然得到的数据，预测模型表示数据的类别、转换和概率。<br>\n",
    "每一个输出是对输入的分析结果，由输入的类别、转换或概率表达。模型可以实现对数据的聚类、降维和概率估计。<br>\n",
    "无监督学习的模型：函数z = g<sub>θ</sub>(x)(硬聚类)、条件概率分布P<sub>θ</sub>(z|x)（软聚类）或条件概率分布P<sub>θ</sub>(x|z)（概率模型估计）<br>\n",
    "参考链接：https://zhuanlan.zhihu.com/p/94614824<br>\n",
    "问题的形式化：图1.2\n",
    "\n",
    "#### ③ 强化学习\n",
    "强化学习是指智能系统在与环境的连续互动中学习最优行为策略的机器学习问题。<br>\n",
    "智能系统的目标不是短期奖励的最大化，而是长期积累奖励的最大化。<br>\n",
    "**知乎**：能否介绍一下强化学习（Reinforcement Learning），以及与监督学习的不同？--https://www.zhihu.com/question/41775291\n",
    "强化学习的马尔可夫决策郭诚是状态、奖励、动作序列上的随机过程，由五个元组组成（状态、动作、状态转移概率、奖励函数和衰减函数）。马尔可夫决策具有马尔可夫性，下一个状态只依赖于前一个转台与动作，由状态转移概率函数P(s'|s,a)表示。下一个奖励依赖于前一个状态与动作，由奖励函数r(s,a)表示。<br>\n",
    "强化学习方法分为有模型的方法和无模型的方法：<br>\n",
    "&emsp;有模型的方法试图直接学习马尔可夫决策过程的模型，包裹转移概率函数P(s'|s,a)和奖励函数r(s,a)。通过模型对环境的反馈进行预测，求出价值函数最大的策略Π<sup>*</sup>。<br>\n",
    "&emsp;无模型的、基于策略的方法不直接学习模型，而是试图求解最优策略Π<sup>*</sup>，表示为函数a = f<sup>*</sup>(s)或者是条件概率分布P<sup>*</sup>(a|s)（例：百面机器学习P262）<br>\n",
    "&emsp;无模型的、基于价值的方法也不直接学习模型，二十试图求解最优价值函数，特别是最优动作价值函数q<sup>*</sup>(s,a)。(例：百面机器学习算法P260，用到贝尔曼方程)<br>\n",
    "\n",
    "#### ④ 半监督学习与主动学习\n",
    "半监督学习是利用标注数据额和未标注数据学习预测模型的机器学习问题（通常少量比爱住数据、大量未标注数据）<br>\n",
    "主动学习是指机器不断主动给出实例让教师进行标准，然后用标注数据学习模型的机器学习问题<br>\n",
    "半监督学习和主动学习更接近监督学习\n",
    "\n",
    "### 1.2.2 按概率分类\n",
    "#### ① 概率模型和非概率模型\n",
    "统计学习的模型可以分为概率模型和非概率模型或者确定性模型<br>\n",
    "在监督学习中，概率模型是生成模型，非概率模型是判别模型\n",
    "\n",
    "#### ② 线性模型和非线性模型\n",
    "线性不可分转可分——低维空间转高维空间\n",
    "\n",
    "#### ③ 参数化模型和非参数化模型\n",
    "参数化模型假设模型参数的维度是固定的，模型可以由有限维参数完全刻画；非参数化模型假设模型参数的维度不固定或者无穷大，随着训练数量的增加而不断增大<br>\n",
    "参数化模型适合问题简单的情况，现实中问题往往比较复杂，非参数化模型更加有效\n",
    "\n",
    "### 1.2.3 按算法分类\n",
    "分为在线学习和批量学习<br>\n",
    "在线学习通常比批量学习更难，很难学到预测准确率更高的模型，因为每次模型更新中，可利用的数据有限\n",
    "\n",
    "### 1.2.4 按技巧分类\n",
    "#### ① 贝叶斯学习\n",
    "#### ② 核方法\n",
    "使用核函数表示和学习非线性模型的一种机器学习方法，可以简化计算"
   ]
  },
  {
   "cell_type": "markdown",
   "metadata": {},
   "source": [
    "## 1.3 统计学习方法三要素\n",
    "方法 = 模型 + 策略 + 算法\n",
    "\n",
    "### 1.3.1 模型\n",
    "模型的假设空间包含所有可能的条件概率分布或决策函数（有决策函数表示的模型为非概率模型，由条件概率表示的模型为概率模型）<br>\n",
    "\n",
    "### 1.3.2 策略\n",
    "有了模型的假设空间，统计学习接着需要考虑的是**按照什么样的准则学习或选择**最优模型。\n",
    "① 损失函数和风险函数<br>\n",
    "损失函数度量模型**一次**预测的好坏，风险函数度量函数**平均意义**下模型预测的好坏。<br>\n",
    "而模型关于训练集的平均数是成为经验风险或经验损失。<br>\n",
    "*问：大数定理在机器学习中的应用？-- 可以谈一谈期望损失逼近经验损失*<br>\n",
    "\n",
    "②经验风险最小化和结构风险最小化<br>\n",
    "但是现实中训练样本数目有限，用经验风险估计期望风险常常不理想，要对经验风险进行一定的矫正。<br>\n",
    "当模型是条件概率分布，损失函数是对数损失函数时，经验风险最小化就等价于极大似然估计。<br>\n",
    "结构风险最小化是为了**防止过拟合**而提出来的策略。结构风险在经验风险的基础上加上表示模型复杂度的正则化项或罚项。<br>\n",
    "*问：解决过拟合的问题？--增大样本量；增加正则化项*\n",
    "\n",
    "### 1.3.3 算法\n",
    "算法是指学习模型的具体计算方法。"
   ]
  },
  {
   "cell_type": "markdown",
   "metadata": {},
   "source": [
    "## 模型评估与模型选择\n",
    "### 1.4.1 训练误差和测试误差\n",
    "测试误差小的方法具有更好的预测能力，是更有效的方法。通常将学习方法对未知数据的预测能力称为泛化能力。\n",
    "### 1.4.2 过拟合与模型选择\n",
    "当模型复杂度增大时，训练误差会逐渐减少并趋向于零；而测试误差会先减小，达到最小值后又增大。<br>\n",
    "*解决过拟合的方法：正则化；交叉验证；增加样本量*"
   ]
  },
  {
   "cell_type": "markdown",
   "metadata": {},
   "source": [
    "## 1.5 正则化与交叉验证\n",
    "### 1.5.1 正则化\n",
    "正则化项一般是模型复杂度的单调递增函数，模型越复杂，正则化指就越大。<br>\n",
    "奥卡姆剃刀原理：在所有可能选择的模型中，能够很好地解释已知数据并且十分简单才是最好的模型。<br>\n",
    "*正则化为什么可与防止过拟合*"
   ]
  },
  {
   "cell_type": "code",
   "execution_count": 1,
   "metadata": {
    "ExecuteTime": {
     "end_time": "2020-09-12T02:16:54.007098Z",
     "start_time": "2020-09-12T02:16:49.981503Z"
    }
   },
   "outputs": [],
   "source": [
    "import numpy as np\n",
    "import scipy as sp\n",
    "from scipy.optimize import leastsq\n",
    "import matplotlib.pyplot as plt\n",
    "%matplotlib inline"
   ]
  },
  {
   "cell_type": "code",
   "execution_count": 3,
   "metadata": {
    "ExecuteTime": {
     "end_time": "2020-09-12T02:17:22.900835Z",
     "start_time": "2020-09-12T02:17:22.877870Z"
    }
   },
   "outputs": [],
   "source": [
    "# 目标函数\n",
    "def real_func(x):\n",
    "    return np.sin(2*np.pi*x)\n",
    "\n",
    "# 多项式\n",
    "def fit_func(p, x):\n",
    "    f = np.poly1d(p)\n",
    "    return f(x)\n",
    "\n",
    "# 残差\n",
    "def residuals_func(p, x, y):\n",
    "    ret = fit_func(p, x) - y\n",
    "    return ret"
   ]
  },
  {
   "cell_type": "code",
   "execution_count": 4,
   "metadata": {
    "ExecuteTime": {
     "end_time": "2020-09-12T02:17:37.004193Z",
     "start_time": "2020-09-12T02:17:36.944212Z"
    }
   },
   "outputs": [],
   "source": [
    "# 十个点\n",
    "x = np.linspace(0, 1, 10)\n",
    "x_points = np.linspace(0, 1, 1000)\n",
    "# 加上正态分布噪音的目标函数的值\n",
    "y_ = real_func(x)\n",
    "y = [np.random.normal(0, 0.1) + y1 for y1 in y_]\n",
    "\n",
    "\n",
    "def fitting(M=0):\n",
    "    \"\"\"\n",
    "    M    为 多项式的次数\n",
    "    \"\"\"\n",
    "    # 随机初始化多项式参数\n",
    "    p_init = np.random.rand(M + 1)\n",
    "    # 最小二乘法\n",
    "    p_lsq = leastsq(residuals_func, p_init, args=(x, y))\n",
    "    print('Fitting Parameters:', p_lsq[0])\n",
    "\n",
    "    # 可视化\n",
    "    plt.plot(x_points, real_func(x_points), label='real')\n",
    "    plt.plot(x_points, fit_func(p_lsq[0], x_points), label='fitted curve')\n",
    "    plt.plot(x, y, 'bo', label='noise')\n",
    "    plt.legend()\n",
    "    return p_lsq"
   ]
  },
  {
   "cell_type": "code",
   "execution_count": 5,
   "metadata": {
    "ExecuteTime": {
     "end_time": "2020-09-12T02:17:47.668917Z",
     "start_time": "2020-09-12T02:17:46.733302Z"
    }
   },
   "outputs": [
    {
     "name": "stdout",
     "output_type": "stream",
     "text": [
      "Fitting Parameters: [0.02900404]\n"
     ]
    },
    {
     "data": {
      "image/png": "[encoded data removed]",
      "text/plain": [
       "<Figure size 432x288 with 1 Axes>"
      ]
     },
     "metadata": {
      "needs_background": "light"
     },
     "output_type": "display_data"
    }
   ],
   "source": [
    "# M=0\n",
    "p_lsq_0 = fitting(M=0)"
   ]
  },
  {
   "cell_type": "code",
   "execution_count": null,
   "metadata": {},
   "outputs": [],
   "source": []
  }
 ],
 "metadata": {
  "hide_input": false,
  "kernelspec": {
   "display_name": "Python 3",
   "language": "python",
   "name": "python3"
  },
  "language_info": {
   "codemirror_mode": {
    "name": "ipython",
    "version": 3
   },
   "file_extension": ".py",
   "mimetype": "text/x-python",
   "name": "python",
   "nbconvert_exporter": "python",
   "pygments_lexer": "ipython3",
   "version": "3.8.3"
  },
  "varInspector": {
   "cols": {
    "lenName": 16,
    "lenType": 16,
    "lenVar": 40
   },
   "kernels_config": {
    "python": {
     "delete_cmd_postfix": "",
     "delete_cmd_prefix": "del ",
     "library": "var_list.py",
     "varRefreshCmd": "print(var_dic_list())"
    },
    "r": {
     "delete_cmd_postfix": ") ",
     "delete_cmd_prefix": "rm(",
     "library": "var_list.r",
     "varRefreshCmd": "cat(var_dic_list()) "
    }
   },
   "types_to_exclude": [
    "module",
    "function",
    "builtin_function_or_method",
    "instance",
    "_Feature"
   ],
   "window_display": false
  }
 },
 "nbformat": 4,
 "nbformat_minor": 4
}
