{
 "cells": [
  {
   "cell_type": "markdown",
   "metadata": {},
   "source": [
    "## 4.1 朴素贝叶斯法的学习与分类\n",
    "### 4.1.1 基本方法\n",
    "条件独立假设等于是说用于分类的特征在类确定的条件下都是条件独立的。这一假设使朴素贝叶斯法变得简单，但有时会牺牲一定的分类准确率。<br>\n",
    "### 4.1.2 后验概率最大化的含义\n",
    "后验概率最大化等价于期望风险最小化。"
   ]
  },
  {
   "cell_type": "markdown",
   "metadata": {},
   "source": [
    "## 4.2 朴素贝叶斯法的参数估计\n",
    "### 4.2.1 极大似然估计\n",
    "### 4.2.2 学习与分类算法\n",
    "计算先验概率和条件概率 \n",
    "### 4.2.3贝叶斯估计\n",
    "举例：https://www.cnblogs.com/leoo2sk/archive/2010/09/17/naive-bayesian-classifier.html"
   ]
  },
  {
   "cell_type": "code",
   "execution_count": 1,
   "metadata": {
    "ExecuteTime": {
     "end_time": "2020-09-28T08:03:10.621420Z",
     "start_time": "2020-09-28T08:03:09.782080Z"
    }
   },
   "outputs": [
    {
     "name": "stdout",
     "output_type": "stream",
     "text": [
      "0.8069281956050759\n",
      "0.8241736304549674\n"
     ]
    }
   ],
   "source": [
    "## 简单实例\n",
    "from sklearn.naive_bayes import GaussianNB, BernoulliNB\n",
    "from sklearn.datasets import load_digits\n",
    "from sklearn.model_selection import cross_val_score\n",
    "\n",
    "x, y = load_digits(return_X_y=True)\n",
    "\n",
    "print(cross_val_score(GaussianNB(), x, y, cv = 5, scoring = 'accuracy').mean())\n",
    "print(cross_val_score(BernoulliNB(), x, y, cv = 5, scoring = 'accuracy').mean())"
   ]
  }
 ],
 "metadata": {
  "hide_input": false,
  "kernelspec": {
   "display_name": "Python 3",
   "language": "python",
   "name": "python3"
  },
  "language_info": {
   "codemirror_mode": {
    "name": "ipython",
    "version": 3
   },
   "file_extension": ".py",
   "mimetype": "text/x-python",
   "name": "python",
   "nbconvert_exporter": "python",
   "pygments_lexer": "ipython3",
   "version": "3.8.3"
  },
  "varInspector": {
   "cols": {
    "lenName": 16,
    "lenType": 16,
    "lenVar": 40
   },
   "kernels_config": {
    "python": {
     "delete_cmd_postfix": "",
     "delete_cmd_prefix": "del ",
     "library": "var_list.py",
     "varRefreshCmd": "print(var_dic_list())"
    },
    "r": {
     "delete_cmd_postfix": ") ",
     "delete_cmd_prefix": "rm(",
     "library": "var_list.r",
     "varRefreshCmd": "cat(var_dic_list()) "
    }
   },
   "types_to_exclude": [
    "module",
    "function",
    "builtin_function_or_method",
    "instance",
    "_Feature"
   ],
   "window_display": false
  }
 },
 "nbformat": 4,
 "nbformat_minor": 4
}
